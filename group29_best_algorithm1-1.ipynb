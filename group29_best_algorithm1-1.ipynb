{
 "cells": [
  {
   "cell_type": "markdown",
   "metadata": {},
   "source": [
    "# Packages Required"
   ]
  },
  {
   "cell_type": "code",
   "execution_count": 11,
   "metadata": {},
   "outputs": [],
   "source": [
    "import pandas as pd\n",
    "import numpy as np\n",
    "import time\n",
    "from math import sqrt\n",
    "import xgboost\n",
    "from sklearn.metrics import mean_absolute_error\n",
    "from sklearn.decomposition import PCA\n",
    "from sklearn.preprocessing import StandardScaler\n",
    "from sklearn.metrics import mean_squared_error\n",
    "from sklearn.model_selection import KFold"
   ]
  },
  {
   "cell_type": "markdown",
   "metadata": {},
   "source": [
    "# Data Pre-Processing"
   ]
  },
  {
   "cell_type": "code",
   "execution_count": 2,
   "metadata": {},
   "outputs": [],
   "source": [
    "# Reading the forest fire data\n",
    "df = pd.read_csv('forestfires.csv')"
   ]
  },
  {
   "cell_type": "code",
   "execution_count": 3,
   "metadata": {},
   "outputs": [],
   "source": [
    "# Manually creating label encoding dictionary and mapping to the categorical variables\n",
    "month_map = {'jan':1,'feb':2,'mar':3,'apr':4,'may':5,'jun':6,'jul':7,'aug':8,\n",
    "            'sep':9,'oct':10,'nov':11,'dec':12}\n",
    "day_map = {'sun':1,'mon':2,'tue':3,'wed':4,'thu':5,'fri':6,'sat':7} \n",
    "\n",
    "df['month'] = df['month'].replace(month_map)\n",
    "df['day'] = df['day'].replace(day_map)"
   ]
  },
  {
   "cell_type": "code",
   "execution_count": 4,
   "metadata": {},
   "outputs": [],
   "source": [
    "# Splitting the data into feature and labels\n",
    "X = df.drop(['area'], axis = 1)\n",
    "y = df['area']"
   ]
  },
  {
   "cell_type": "code",
   "execution_count": 5,
   "metadata": {},
   "outputs": [],
   "source": [
    "# Applying log transformation on the area column\n",
    "y_log = np.log(y + 1)"
   ]
  },
  {
   "cell_type": "markdown",
   "metadata": {},
   "source": [
    "# 10 Fold Cross-Validation Function"
   ]
  },
  {
   "cell_type": "code",
   "execution_count": 6,
   "metadata": {},
   "outputs": [],
   "source": [
    "##########################################################################\n",
    "# This function inputs:\n",
    "# reg - regression model\n",
    "# x_trn - independent variables\n",
    "# y_trn - target variable\n",
    "# y_log_trn - log transformed target varaible\n",
    "# k - k folds\n",
    "# scale - Given as True if feature scaling is required to be performed on train and test folds\n",
    "# pca - Given as True if pca has to be performed on train and test folds\n",
    "############################################################################\n",
    "# Function Output:\n",
    "# Returns the average of k fold iterations for the following evaluation metrics:\n",
    "# MSE, NLL, RMSE, MAD for test fold data\n",
    "# RMSE for train fold data\n",
    "###########################################################################\n",
    "def k_fold_cv(reg, x_trn,y_trn,y_log_trn,k, scale = False, pca = False):\n",
    "    train_error_rmse = [] # assigns lists to capture the evaluation metrics of k fold validation\n",
    "    test_error_rmse = []\n",
    "    train_error_mad = []\n",
    "    test_error_mad = []\n",
    "    test_error_mse = []\n",
    "    nll_list = []\n",
    "    cv = KFold(n_splits=k, random_state=42, shuffle=True) # Random state is assigned to keep the split\n",
    "    for train_index, test_index in cv.split(x_trn):       # consistent for all model \n",
    "        X_train, X_test, y_train, y_test,y_log_train = x_trn.iloc[train_index,], x_trn.iloc[test_index,],  \\\n",
    "                          y_trn.iloc[train_index,], y_trn.iloc[test_index,],y_log_trn.iloc[train_index,]\n",
    "\n",
    "        if pca: # feature scaling and pca is applied\n",
    "            scale = StandardScaler()\n",
    "            scale.fit(X_train)\n",
    "            X_train = scale.transform(X_train)\n",
    "            X_test = scale.transform(X_test)\n",
    "            pca = PCA(0.8) # overall variance of pca to capture\n",
    "            pca.fit(X_train)\n",
    "\n",
    "            X_train = pca.transform(X_train)\n",
    "            X_test = pca.transform(X_test)\n",
    "        elif scale: # feature scaling is applied\n",
    "            scale = StandardScaler()\n",
    "            X_train = pd.DataFrame(scale.fit_transform(X_train))\n",
    "            X_test = pd.DataFrame(scale.transform(X_test))\n",
    "            \n",
    "        reg.fit(X_train, y_log_train) # Fitting the model with k-1 fold train data\n",
    "        \n",
    "        pred_train = reg.predict(X_train) # predicitng the output of k-1 fold train data\n",
    "        pred_test = reg.predict(X_test) # predicting the output of 1 fold test data\n",
    "\n",
    "        # Applying inverse of log tranformation on predicted value \n",
    "        # to evaluate the error between actual and predicted value\n",
    "        pred_train = 10**pred_train-1\n",
    "        pred_test = 10**pred_test-1\n",
    "        \n",
    "        pred_train[pred_train < 0] = 0 # after inverse of log, some predicted values tend to be negative\n",
    "        pred_test[pred_test < 0] = 0 # they are assigned to be 0 since burned area cannot be negative\n",
    "        \n",
    "        ######## Calculating negative log likelihood\n",
    "        var = np.var(pred_test)\n",
    "        mean = np.mean(pred_test)\n",
    "        sum_error = 0\n",
    "        for i in range(0,len(pred_test)):\n",
    "            sum_error = sum_error + (y_test.iloc[i] - pred_test[i])**2 # sum of (actual - pred)^2\n",
    "            \n",
    "        nll = (len(pred_test)*0.5*np.log(2*3.14*var)) + (sum_error/(2*var))\n",
    "        nll_list.append(nll)\n",
    "        ######## calculating RMSE of train and test data\n",
    "        train_error_rmse.append(sqrt(mean_squared_error(y_train, pred_train)))\n",
    "        test_error_rmse.append(sqrt(mean_squared_error(y_test, pred_test)))\n",
    "        ######## calculating MAD of test data\n",
    "        test_error_mad.append(mean_absolute_error(y_test, pred_test))\n",
    "        ######## calculating MSE of test data\n",
    "        test_error_mse.append(mean_squared_error(y_test, pred_test))\n",
    "    return np.average(train_error_rmse), np.average(test_error_rmse), np.average(test_error_mad),\\\n",
    "                np.average(test_error_mse), np.average(nll_list)\n",
    "            "
   ]
  },
  {
   "cell_type": "markdown",
   "metadata": {},
   "source": [
    "# XGBoost Linear Gradient Boosting Model"
   ]
  },
  {
   "cell_type": "code",
   "execution_count": 12,
   "metadata": {},
   "outputs": [
    {
     "name": "stdout",
     "output_type": "stream",
     "text": [
      "[18:33:44] WARNING: C:/Jenkins/workspace/xgboost-win64_release_0.90/src/objective/regression_obj.cu:152: reg:linear is now deprecated in favor of reg:squarederror.\n"
     ]
    },
    {
     "name": "stderr",
     "output_type": "stream",
     "text": [
      "C:\\Users\\renil934\\Anaconda3\\lib\\site-packages\\xgboost\\core.py:587: FutureWarning: Series.base is deprecated and will be removed in a future version\n",
      "  if getattr(data, 'base', None) is not None and \\\n",
      "C:\\Users\\renil934\\Anaconda3\\lib\\site-packages\\xgboost\\core.py:587: FutureWarning: Series.base is deprecated and will be removed in a future version\n",
      "  if getattr(data, 'base', None) is not None and \\\n",
      "C:\\Users\\renil934\\Anaconda3\\lib\\site-packages\\xgboost\\core.py:587: FutureWarning: Series.base is deprecated and will be removed in a future version\n",
      "  if getattr(data, 'base', None) is not None and \\\n",
      "C:\\Users\\renil934\\Anaconda3\\lib\\site-packages\\xgboost\\core.py:587: FutureWarning: Series.base is deprecated and will be removed in a future version\n",
      "  if getattr(data, 'base', None) is not None and \\\n"
     ]
    },
    {
     "name": "stdout",
     "output_type": "stream",
     "text": [
      "[18:33:45] WARNING: C:/Jenkins/workspace/xgboost-win64_release_0.90/src/objective/regression_obj.cu:152: reg:linear is now deprecated in favor of reg:squarederror.\n",
      "[18:33:45] WARNING: C:/Jenkins/workspace/xgboost-win64_release_0.90/src/objective/regression_obj.cu:152: reg:linear is now deprecated in favor of reg:squarederror.\n",
      "[18:33:45] WARNING: C:/Jenkins/workspace/xgboost-win64_release_0.90/src/objective/regression_obj.cu:152: reg:linear is now deprecated in favor of reg:squarederror.\n"
     ]
    },
    {
     "name": "stderr",
     "output_type": "stream",
     "text": [
      "C:\\Users\\renil934\\Anaconda3\\lib\\site-packages\\xgboost\\core.py:587: FutureWarning: Series.base is deprecated and will be removed in a future version\n",
      "  if getattr(data, 'base', None) is not None and \\\n",
      "C:\\Users\\renil934\\Anaconda3\\lib\\site-packages\\xgboost\\core.py:587: FutureWarning: Series.base is deprecated and will be removed in a future version\n",
      "  if getattr(data, 'base', None) is not None and \\\n",
      "C:\\Users\\renil934\\Anaconda3\\lib\\site-packages\\xgboost\\core.py:587: FutureWarning: Series.base is deprecated and will be removed in a future version\n",
      "  if getattr(data, 'base', None) is not None and \\\n"
     ]
    },
    {
     "name": "stdout",
     "output_type": "stream",
     "text": [
      "[18:33:45] WARNING: C:/Jenkins/workspace/xgboost-win64_release_0.90/src/objective/regression_obj.cu:152: reg:linear is now deprecated in favor of reg:squarederror.\n",
      "[18:33:45] WARNING: C:/Jenkins/workspace/xgboost-win64_release_0.90/src/objective/regression_obj.cu:152: reg:linear is now deprecated in favor of reg:squarederror.\n",
      "[18:33:45] WARNING: C:/Jenkins/workspace/xgboost-win64_release_0.90/src/objective/regression_obj.cu:152: reg:linear is now deprecated in favor of reg:squarederror.\n",
      "[18:33:45] WARNING: C:/Jenkins/workspace/xgboost-win64_release_0.90/src/objective/regression_obj.cu:152: reg:linear is now deprecated in favor of reg:squarederror.\n",
      "[18:33:45] WARNING: C:/Jenkins/workspace/xgboost-win64_release_0.90/src/objective/regression_obj.cu:152: reg:linear is now deprecated in favor of reg:squarederror.\n",
      "[18:33:45] WARNING: C:/Jenkins/workspace/xgboost-win64_release_0.90/src/objective/regression_obj.cu:152: reg:linear is now deprecated in favor of reg:squarederror.\n",
      "MSE of XGBoost gblinear test data: 4006.7442689268246\n",
      "NLL of XGBoost gblinear test data: 5085.154343751\n",
      "RMSE of XGBoost gblinear Test data: 46.45419051716742\n",
      "MAD of XGBoost gblinear Test data: 18.649363506903295\n",
      "Run time:000001\n"
     ]
    },
    {
     "name": "stderr",
     "output_type": "stream",
     "text": [
      "C:\\Users\\renil934\\Anaconda3\\lib\\site-packages\\xgboost\\core.py:587: FutureWarning: Series.base is deprecated and will be removed in a future version\n",
      "  if getattr(data, 'base', None) is not None and \\\n",
      "C:\\Users\\renil934\\Anaconda3\\lib\\site-packages\\xgboost\\core.py:587: FutureWarning: Series.base is deprecated and will be removed in a future version\n",
      "  if getattr(data, 'base', None) is not None and \\\n"
     ]
    }
   ],
   "source": [
    "start_time = time.time()\n",
    "\n",
    "regressor = xgboost.XGBRegressor(booster = 'gblinear')\n",
    "train_error_rmse, test_error_rmse,test_error_mad,test_error_mse,nll = k_fold_cv(regressor, X,y,y_log,10)\n",
    "\n",
    "print(\"MSE of XGBoost gblinear test data:\",test_error_mse)\n",
    "print(\"NLL of XGBoost gblinear test data:\",nll)\n",
    "print(\"RMSE of XGBoost gblinear Test data:\",test_error_rmse)\n",
    "print(\"MAD of XGBoost gblinear Test data:\",test_error_mad)\n",
    "\n",
    "elapsed_time = time.time()-start_time\n",
    "print(\"Run time:\"+time.strftime(\"%H%M%S\",time.gmtime(elapsed_time)))"
   ]
  }
 ],
 "metadata": {
  "kernelspec": {
   "display_name": "Python 3",
   "language": "python",
   "name": "python3"
  },
  "language_info": {
   "codemirror_mode": {
    "name": "ipython",
    "version": 3
   },
   "file_extension": ".py",
   "mimetype": "text/x-python",
   "name": "python",
   "nbconvert_exporter": "python",
   "pygments_lexer": "ipython3",
   "version": "3.7.3"
  }
 },
 "nbformat": 4,
 "nbformat_minor": 2
}
